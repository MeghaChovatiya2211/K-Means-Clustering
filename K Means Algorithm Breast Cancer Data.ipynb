{
 "cells": [
  {
   "cell_type": "code",
   "execution_count": 44,
   "metadata": {},
   "outputs": [],
   "source": [
    "import matplotlib.pyplot as plt\n",
    "from matplotlib import style\n",
    "from matplotlib import animation\n",
    "import numpy as np\n",
    "import pandas as pd\n",
    "import time\n",
    "style.use(\"ggplot\")"
   ]
  },
  {
   "cell_type": "code",
   "execution_count": 45,
   "metadata": {},
   "outputs": [],
   "source": [
    "X = np.array([[1,2],\n",
    "             [1.5,1.8],\n",
    "              [5,8],\n",
    "             [8,8],\n",
    "              [1,0.6],\n",
    "             [9,11]])"
   ]
  },
  {
   "cell_type": "code",
   "execution_count": 46,
   "metadata": {},
   "outputs": [],
   "source": [
    "colors = 10*[\"g\",\"r\",\"c\",\"b\",\"k\"]"
   ]
  },
  {
   "cell_type": "code",
   "execution_count": 104,
   "metadata": {},
   "outputs": [],
   "source": [
    "class K_Means: #Taken from sklearn library \n",
    "    \n",
    "    def __init__(self,k=2,tol=0.001,max_iter=300):\n",
    "        self.k = k\n",
    "        self.tol = tol\n",
    "        self.max_iter = max_iter\n",
    "        self.all_c = {}\n",
    "   \n",
    "    def fit(self,data):\n",
    "        fig = plt.figure()\n",
    "        ax = plt.axes()\n",
    "        \n",
    "        def cenPlot(cent):\n",
    "            for centroid in cent:\n",
    "                plt.plot(cent[centroid][0],cent[centroid][1])\n",
    "            \n",
    "        self.centroids = {}\n",
    "        for i in range(self.k):\n",
    "            self.centroids[i] = data[i][0:2]\n",
    "            self.all_c[i] = [[data[i][0]],[data[i][1]]]\n",
    "        \n",
    "        for i in range(self.max_iter):\n",
    "            self.classifications = {}\n",
    "            for i in range(self.k):\n",
    "                self.classifications[i] = []\n",
    "                            \n",
    "            for featureset in data:\n",
    "                distances = [np.linalg.norm(featureset[0:2] - self.centroids[centroid][0:2]) for centroid in self.centroids]\n",
    "                classification = distances.index(min(distances))\n",
    "                self.classifications[classification].append(featureset)\n",
    "            \n",
    "            prev_centroids = dict(self.centroids)\n",
    "            \n",
    "            for classification in self.classifications:\n",
    "                \n",
    "                self.centroids[classification] = np.average(self.classifications[classification][0:2],axis=0)\n",
    "                self.all_c[classification][0].append(self.centroids[classification][0])\n",
    "                self.all_c[classification][1].append(self.centroids[classification][1])\n",
    "                \n",
    "            optimized = True\n",
    "            \n",
    "            for c in self.centroids:\n",
    "                original_centroid = prev_centroids[c][:2]\n",
    "                current_centroid = self.centroids[c][0:2]\n",
    "                if np.sum((current_centroid-original_centroid)/original_centroid*100 > self.tol):\n",
    "                    optimized = False\n",
    "                    \n",
    "            if optimized or i==self.max_iter-1:\n",
    "                cenPlot(self.all_c)\n",
    "                break\n",
    "                    \n",
    "        #anim = animation.FuncAnimation(fig,animate,1000)\n",
    "        #plt.show()\n",
    "        \n",
    "    def predict(self,data):\n",
    "        distances = [np.linalg.norm(data[0:2]-self.centroids[centroid][:2]) for centroid in self.centroids]\n",
    "        classification = distances.index(min(distances))\n",
    "        return classification"
   ]
  },
  {
   "cell_type": "code",
   "execution_count": 105,
   "metadata": {},
   "outputs": [
    {
     "name": "stdout",
     "output_type": "stream",
     "text": [
      "{0: [[1.0, 1.0, 1.25, 1.25], [2.0, 2.0, 1.9, 1.9]], 1: [[1.5, 3.25, 6.5, 6.5], [1.8, 4.9, 8.0, 8.0]]}\n"
     ]
    },
    {
     "data": {
      "image/png": "[encoded data removed]",
      "text/plain": [
       "<Figure size 432x288 with 1 Axes>"
      ]
     },
     "metadata": {},
     "output_type": "display_data"
    }
   ],
   "source": [
    "clf = K_Means(k=2,tol=0.001,max_iter=300)\n",
    "clf.fit(X)\n",
    "clf.predict([9,10])\n",
    "for classification in clf.classifications:\n",
    "    color = colors[classification]\n",
    "    for featureset in clf.classifications[classification]:\n",
    "        plt.scatter(featureset[0],featureset[1],marker = \"o\",s=90,color = color)\n",
    "for centroid in clf.centroids:\n",
    "    plt.scatter(clf.centroids[centroid][0],clf.centroids[centroid][1],marker = \"x\" , color = \"k\",s=50,linewidth = 1)\n",
    "print(clf.all_c)"
   ]
  },
  {
   "cell_type": "code",
   "execution_count": 106,
   "metadata": {},
   "outputs": [
    {
     "data": {
      "text/plain": [
       "array([[ 1.,  1.,  2.],\n",
       "       [ 2.,  1.,  2.],\n",
       "       [ 1.,  1.,  2.],\n",
       "       ...,\n",
       "       [10.,  2.,  4.],\n",
       "       [ 6.,  1.,  4.],\n",
       "       [ 4.,  1.,  4.]])"
      ]
     },
     "execution_count": 106,
     "metadata": {},
     "output_type": "execute_result"
    }
   ],
   "source": [
    "df = pd.read_csv('Breast-Cancer.csv',na_values = ['?'])\n",
    "means = df.mean().to_dict()\n",
    "header = list(df)[:-3]\n",
    "for h in header:\n",
    "    df.drop([h],1,inplace=True)\n",
    "header = list(df)\n",
    "df.fillna(df.mean(),inplace = True)\n",
    "full_data = np.array(df.astype(float).values.tolist())\n",
    "full_data"
   ]
  },
  {
   "cell_type": "code",
   "execution_count": 110,
   "metadata": {},
   "outputs": [
    {
     "name": "stdout",
     "output_type": "stream",
     "text": [
      "[9,10] lies in cluster 2\n",
      "{0: 2, 1: 2}\n",
      "{0: [[1.0, 1.0, 1.5, 1.5], [1.0, 1.0, 1.0, 1.0]], 1: [[2.0, 4.5, 7.0, 7.0], [1.0, 1.0, 1.0, 1.0]]}\n"
     ]
    },
    {
     "data": {
      "image/png": "[encoded data removed]",
      "text/plain": [
       "<Figure size 432x288 with 1 Axes>"
      ]
     },
     "metadata": {},
     "output_type": "display_data"
    }
   ],
   "source": [
    "clf = K_Means(k=2,tol=0.001,max_iter=300)\n",
    "clf.fit(full_data)\n",
    "c2 = 0\n",
    "c4 = 0\n",
    "class_dict = {}\n",
    "for classification in clf.classifications:\n",
    "    \n",
    "    for i in clf.classifications[classification][:]:\n",
    "        if i[-1] == 2:\n",
    "            c2+=1\n",
    "        else:\n",
    "            c4+=1\n",
    "    if(c2>c4):\n",
    "        class_dict[classification] = 2\n",
    "    else:\n",
    "        class_dict[classification] = 4\n",
    "        \n",
    "    color = colors[classification]\n",
    "    for featureset in clf.classifications[classification]:\n",
    "        plt.scatter(featureset[0],featureset[1],marker = \"o\",s=90,color = color)\n",
    "for centroid in clf.centroids:\n",
    "    plt.scatter(clf.centroids[centroid][0],clf.centroids[centroid][1],marker = \"x\" , color = \"k\",s=50,linewidth = 1)\n",
    "    \n",
    "c = clf.predict([9,10])\n",
    "print(\"[9,10] lies in cluster\", class_dict[c])\n",
    "print(class_dict)\n",
    "print(clf.all_c)"
   ]
  },
  {
   "cell_type": "code",
   "execution_count": null,
   "metadata": {},
   "outputs": [],
   "source": []
  },
  {
   "cell_type": "code",
   "execution_count": null,
   "metadata": {},
   "outputs": [],
   "source": []
  }
 ],
 "metadata": {
  "kernelspec": {
   "display_name": "Python 3",
   "language": "python",
   "name": "python3"
  },
  "language_info": {
   "codemirror_mode": {
    "name": "ipython",
    "version": 3
   },
   "file_extension": ".py",
   "mimetype": "text/x-python",
   "name": "python",
   "nbconvert_exporter": "python",
   "pygments_lexer": "ipython3",
   "version": "3.5.4"
  }
 },
 "nbformat": 4,
 "nbformat_minor": 2
}
