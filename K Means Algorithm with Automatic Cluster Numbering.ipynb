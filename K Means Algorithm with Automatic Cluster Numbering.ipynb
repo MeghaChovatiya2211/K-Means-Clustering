{
 "cells": [
  {
   "cell_type": "code",
   "execution_count": 11,
   "metadata": {},
   "outputs": [],
   "source": [
    "import matplotlib.pyplot as plt\n",
    "from matplotlib import style\n",
    "from matplotlib import animation\n",
    "import numpy as np\n",
    "import pandas as pd\n",
    "import time\n",
    "style.use(\"ggplot\")"
   ]
  },
  {
   "cell_type": "code",
   "execution_count": 12,
   "metadata": {},
   "outputs": [],
   "source": [
    "X = np.array([[11,1],\n",
    "              [9,9],\n",
    "              [1,2],\n",
    "             [1.5,1.8],\n",
    "              [8,8],\n",
    "             [8,8],\n",
    "              [1,0.6],\n",
    "             [9,11],\n",
    "             [1,8],\n",
    "             [1,9],\n",
    "             [2,8]])"
   ]
  },
  {
   "cell_type": "code",
   "execution_count": 13,
   "metadata": {},
   "outputs": [],
   "source": [
    "colors = 10*[\"g\",\"r\",\"c\",\"b\",\"k\"]"
   ]
  },
  {
   "cell_type": "code",
   "execution_count": 16,
   "metadata": {},
   "outputs": [],
   "source": [
    "class K_Means: #Taken from sklearn library \n",
    "    \n",
    "    def __init__(self,k=2,tol=0.001,max_iter=300):\n",
    "        self.k = k\n",
    "        self.tol = tol\n",
    "        self.max_iter = max_iter\n",
    "        self.all_c = {}\n",
    "   \n",
    "    def fit(self,data):\n",
    "        fig = plt.figure()\n",
    "        ax = plt.axes()\n",
    "        \n",
    "        def cenPlot(cent):\n",
    "            for centroid in cent:\n",
    "                plt.plot(cent[centroid][0],cent[centroid][1],linewidth = 3)\n",
    "            \n",
    "            \n",
    "        self.centroids = {}\n",
    "        for i in range(self.k):\n",
    "            self.centroids[i] = data[i]\n",
    "            self.all_c[i] = [[data[i][0]],[data[i][1]]]\n",
    "        for i in range(self.max_iter):\n",
    "            self.classifications = {}\n",
    "            for i in range(self.k):\n",
    "                self.classifications[i] = []\n",
    "                            \n",
    "            for featureset in data:\n",
    "                distances = [np.linalg.norm(featureset - self.centroids[centroid]) for centroid in self.centroids]\n",
    "                classification = distances.index(min(distances))\n",
    "                self.classifications[classification].append(featureset)\n",
    "            \n",
    "            prev_centroids = dict(self.centroids)\n",
    "            \n",
    "            for classification in self.classifications:\n",
    "                \n",
    "                self.centroids[classification] = np.average(self.classifications[classification],axis=0)\n",
    "                self.all_c[classification][0].append(self.centroids[classification][0])\n",
    "                self.all_c[classification][1].append(self.centroids[classification][1])\n",
    "                \n",
    "            optimized = True\n",
    "            \n",
    "            for c in self.centroids:\n",
    "                original_centroid = prev_centroids[c]\n",
    "                current_centroid = self.centroids[c]\n",
    "                if np.sum((current_centroid-original_centroid)/original_centroid*100 > self.tol):\n",
    "                    optimized = False\n",
    "                    \n",
    "            if optimized or i==self.max_iter-1:\n",
    "                cenPlot(self.all_c)\n",
    "                l_cent = []\n",
    "                for centroid in self.centroids:\n",
    "                    l_cent.append(self.centroids[centroid])\n",
    "                l_cent.sort(key = lambda x : x[0])\n",
    "                print(l_cent)\n",
    "                self.centroids = {}\n",
    "                for i in range(self.k):\n",
    "                    self.centroids[i] = l_cent[i]\n",
    "                print(self.centroids)\n",
    "                break\n",
    "                    \n",
    "        #anim = animation.FuncAnimation(fig,animate,1000)\n",
    "        #plt.show()\n",
    "        \n",
    "    def predict(self,data):\n",
    "        distances = [np.linalg.norm(data-self.centroids[centroid]) for centroid in self.centroids]\n",
    "        classification = distances.index(min(distances))\n",
    "        return classification"
   ]
  },
  {
   "cell_type": "code",
   "execution_count": 17,
   "metadata": {},
   "outputs": [
    {
     "name": "stdout",
     "output_type": "stream",
     "text": [
      "[array([1.16666667, 1.46666667]), array([1.33333333, 8.33333333]), array([8.5, 9. ]), array([11.,  1.])]\n",
      "{0: array([1.16666667, 1.46666667]), 1: array([1.33333333, 8.33333333]), 2: array([8.5, 9. ]), 3: array([11.,  1.])}\n"
     ]
    },
    {
     "data": {
      "image/png": "[encoded data removed]",
      "text/plain": [
       "<Figure size 432x288 with 1 Axes>"
      ]
     },
     "metadata": {},
     "output_type": "display_data"
    },
    {
     "name": "stdout",
     "output_type": "stream",
     "text": [
      "{0: array([1.16666667, 1.46666667]), 1: array([1.33333333, 8.33333333]), 2: array([8.5, 9. ]), 3: array([11.,  1.])}\n"
     ]
    }
   ],
   "source": [
    "clf = K_Means(k=4,tol=0.001,max_iter=300)\n",
    "clf.fit(X)\n",
    "for i in X:\n",
    "    classification = clf.predict(i)\n",
    "    color = colors[classification]\n",
    "    plt.scatter(i[0],i[1],marker = \"o\",s=90,color = color)\n",
    "for centroid in clf.centroids:\n",
    "    plt.scatter(clf.centroids[centroid][0],clf.centroids[centroid][1],marker = \"x\" , color = \"k\",s=50,linewidth = 1)\n",
    "plt.show()\n",
    "print(clf.centroids)"
   ]
  },
  {
   "cell_type": "code",
   "execution_count": null,
   "metadata": {},
   "outputs": [],
   "source": []
  }
 ],
 "metadata": {
  "kernelspec": {
   "display_name": "Python 3",
   "language": "python",
   "name": "python3"
  },
  "language_info": {
   "codemirror_mode": {
    "name": "ipython",
    "version": 3
   },
   "file_extension": ".py",
   "mimetype": "text/x-python",
   "name": "python",
   "nbconvert_exporter": "python",
   "pygments_lexer": "ipython3",
   "version": "3.5.4"
  }
 },
 "nbformat": 4,
 "nbformat_minor": 2
}
